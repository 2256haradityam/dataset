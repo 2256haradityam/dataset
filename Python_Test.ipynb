{
 "cells": [
  {
   "cell_type": "markdown",
   "id": "ba056f15-6e97-4eee-93ac-114f3a258957",
   "metadata": {},
   "source": [
    "Q) Could you write a Python program that accepts a text input, converts it into a list of words, and prints each word along with its frequency?"
   ]
  },
  {
   "cell_type": "code",
   "execution_count": null,
   "id": "9188b263-c2ce-4ace-b07f-d405625730d1",
   "metadata": {},
   "outputs": [],
   "source": [
    "# Write your code here\n",
    "\n"
   ]
  },
  {
   "cell_type": "markdown",
   "id": "0af8bf82-ce5a-4969-9ea3-00ed4e642995",
   "metadata": {},
   "source": [
    "Q) Write a Python program that takes a number as input and prints its multiplication table in the format number * 1 = result, repeating for numbers 1 through 10"
   ]
  },
  {
   "cell_type": "code",
   "execution_count": null,
   "id": "30c926a1-f3ca-4375-bd5d-ab1a91d5dae6",
   "metadata": {},
   "outputs": [],
   "source": [
    "# Write your code here\n",
    "\n"
   ]
  },
  {
   "cell_type": "markdown",
   "id": "d4fa5838-2792-47b5-a941-f5b53d6fc4af",
   "metadata": {},
   "source": [
    "Q) Could you write a Python program that takes a number as input, calculates its factorial, and outputs the result in the format:\n",
    "\n",
    "The factorial of the given (num) is: (fact)"
   ]
  },
  {
   "cell_type": "code",
   "execution_count": null,
   "id": "9b3e4b4e-6573-4449-9449-a287cad8c1b6",
   "metadata": {},
   "outputs": [],
   "source": [
    "# Write your code here\n",
    "\n"
   ]
  },
  {
   "cell_type": "markdown",
   "id": "ab20c4a5-38ad-4da2-afc3-3b0eba212324",
   "metadata": {},
   "source": [
    "Q) Write a Python program that takes a list of numbers as input and returns a list containing only the even numbers. Additionally, calculate and return the sum of these even numbers.\n",
    "\n",
    "For example, if the input is [1, 2, 3, 4, 5, 6], the output should be the list [2, 4, 6] and the sum 12"
   ]
  },
  {
   "cell_type": "code",
   "execution_count": null,
   "id": "955b0ac7-2b07-4065-89c1-aac83515b3ce",
   "metadata": {},
   "outputs": [],
   "source": [
    "# Write your code here\n",
    "\n"
   ]
  },
  {
   "cell_type": "markdown",
   "id": "8fed9f8a-0561-4364-a0d7-6df4ef7ea151",
   "metadata": {},
   "source": [
    "Q) Write a Python function to find the kth smallest element in a list."
   ]
  },
  {
   "cell_type": "code",
   "execution_count": 1,
   "id": "2ebe71b3-cd1d-4f6e-a6fb-08435662d9b2",
   "metadata": {},
   "outputs": [],
   "source": [
    "# Write your code here\n",
    "\n"
   ]
  }
 ],
 "metadata": {
  "kernelspec": {
   "display_name": "Python 3 (ipykernel)",
   "language": "python",
   "name": "python3"
  },
  "language_info": {
   "codemirror_mode": {
    "name": "ipython",
    "version": 3
   },
   "file_extension": ".py",
   "mimetype": "text/x-python",
   "name": "python",
   "nbconvert_exporter": "python",
   "pygments_lexer": "ipython3",
   "version": "3.12.5"
  }
 },
 "nbformat": 4,
 "nbformat_minor": 5
}
